{
 "cells": [
  {
   "cell_type": "markdown",
   "metadata": {},
   "source": [
    "# Лабораторная работа № 1\n",
    "## студента ПК-16М-1\n",
    "## Бекленищева Владислава\n"
   ]
  },
  {
   "cell_type": "markdown",
   "metadata": {},
   "source": [
    "###### Постановка задачи"
   ]
  },
  {
   "cell_type": "markdown",
   "metadata": {},
   "source": [
    "Условие задачи (Колесников - с. 98)\n",
    "\n",
    "Начальная система x'(t) + ax = u\n",
    "\n",
    "Варианты выбора psi (многообразия):\n",
    "1. psi = x\n",
    "2. psi = tanh x\n",
    "3. psi = tanh A x\n",
    "\n",
    "Управление находится из уравнения: T * psi' + psi = 0\n",
    "\n",
    "В работе рассматривается синтезирование управления для первого и второго многообразия:\n",
    "- u1 = -x (1/T - a)\n",
    "- u2 = (-1/2T) sh(2x) + ax"
   ]
  },
  {
   "cell_type": "markdown",
   "metadata": {},
   "source": [
    "Задание: \n",
    "1. Найти управление u, подставить его в исходное уравнение и получить замкнутую управлением систему. \n",
    "2. Решить ДУ при заданных начальных условиях\n",
    "3. Построить интегральные кривые для заданных начальных условий."
   ]
  },
  {
   "cell_type": "markdown",
   "metadata": {},
   "source": [
    "###### Исходный код решения задачи"
   ]
  },
  {
   "cell_type": "markdown",
   "metadata": {},
   "source": [
    "Подключаем пакеты:"
   ]
  },
  {
   "cell_type": "code",
   "execution_count": 1,
   "metadata": {
    "collapsed": false
   },
   "outputs": [],
   "source": [
    "import numpy as np\n",
    "from scipy.integrate import odeint\n",
    "from sympy import sech\n",
    "import matplotlib.pyplot as plt"
   ]
  },
  {
   "cell_type": "markdown",
   "metadata": {},
   "source": [
    "Определяем замкнутые уравнения систем для первого и второго многообразия соответственно:"
   ]
  },
  {
   "cell_type": "code",
   "execution_count": 2,
   "metadata": {
    "collapsed": true
   },
   "outputs": [],
   "source": [
    "def firstClosedEquation(x, t, T):\n",
    "    dxdt = -x / T\n",
    "    return dxdt"
   ]
  },
  {
   "cell_type": "code",
   "execution_count": 3,
   "metadata": {
    "collapsed": true
   },
   "outputs": [],
   "source": [
    "def secondClosedEquation(x, t, T):\n",
    "    dxdt = ((-0.5) * sech(2*x)) / T\n",
    "    return dxdt"
   ]
  },
  {
   "cell_type": "markdown",
   "metadata": {},
   "source": [
    "вводим параметры:"
   ]
  },
  {
   "cell_type": "code",
   "execution_count": 4,
   "metadata": {
    "collapsed": false
   },
   "outputs": [],
   "source": [
    "x0 = -10; T0 = 0.5\n",
    "x1 = 5; T1 = 2\n",
    "x2 = 10; T2 = 1\n",
    "t = np.arange(0, 11)"
   ]
  },
  {
   "cell_type": "markdown",
   "metadata": {},
   "source": [
    "решаем уравнения:"
   ]
  },
  {
   "cell_type": "code",
   "execution_count": 5,
   "metadata": {
    "collapsed": false
   },
   "outputs": [],
   "source": [
    "x_first_1 = odeint(firstClosedEquation, x0, t, args=(T0,))\n",
    "x_first_2 = odeint(firstClosedEquation, x1, t, args=(T1,))\n",
    "x_first_3 = odeint(firstClosedEquation, x2, t, args=(T2,))"
   ]
  },
  {
   "cell_type": "markdown",
   "metadata": {
    "collapsed": false
   },
   "source": [
    "###### интегральные кривые"
   ]
  },
  {
   "cell_type": "code",
   "execution_count": 6,
   "metadata": {
    "collapsed": false
   },
   "outputs": [
    {
     "data": {
      "image/png": "[encoded data removed]",
      "text/plain": [
       "<matplotlib.figure.Figure at 0x33e6a96438>"
      ]
     },
     "metadata": {},
     "output_type": "display_data"
    }
   ],
   "source": [
    "plt.plot(t, x_first_1, 'r', label='x(0) = -10', linewidth=2)\n",
    "plt.plot(t, x_first_2, 'g', label='x(1) = 5', linewidth=2)\n",
    "plt.plot(t, x_first_2, 'b', label='x(2) = 10', linewidth=2)\n",
    "plt.legend(loc='best')\n",
    "plt.xlabel('t')\n",
    "plt.grid()\n",
    "plt.show()"
   ]
  }
 ],
 "metadata": {
  "anaconda-cloud": {},
  "kernelspec": {
   "display_name": "Python [conda root]",
   "language": "python",
   "name": "conda-root-py"
  },
  "language_info": {
   "codemirror_mode": {
    "name": "ipython",
    "version": 3
   },
   "file_extension": ".py",
   "mimetype": "text/x-python",
   "name": "python",
   "nbconvert_exporter": "python",
   "pygments_lexer": "ipython3",
   "version": "3.5.2"
  }
 },
 "nbformat": 4,
 "nbformat_minor": 1
}
